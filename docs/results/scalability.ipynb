{
 "cells": [
  {
   "cell_type": "code",
   "execution_count": 1,
   "metadata": {},
   "outputs": [],
   "source": [
    "import numpy as np\n",
    "import seaborn as sns\n",
    "import pandas as pd"
   ]
  },
  {
   "cell_type": "code",
   "execution_count": 34,
   "metadata": {},
   "outputs": [],
   "source": [
    "def get_max_bets_per_round(secondsperround, proportion_gas_used):\n",
    "  # Constants\n",
    "  play_static = 30948\n",
    "  play_per_bet = 3149\n",
    "  bet_range = [55868, 90068]\n",
    "\n",
    "  blocksperround = (secondsperround) / 2.2\n",
    "  gas_limit = blocksperround * 20000000 * proportion_gas_used\n",
    "\n",
    "  gas_limit -= play_static\n",
    "\n",
    "  max_bets = 0\n",
    "  while gas_limit > 0:\n",
    "    max_bets += 1\n",
    "    gas_limit -= play_per_bet + np.random.randint(*bet_range)\n",
    "\n",
    "  return max_bets / blocksperround\n",
    "\n",
    "xspace = np.arange(0, 1.05, 0.05)\n",
    "roulettedata = []\n",
    "\n",
    "for i in xspace:\n",
    "  roulettedata.append((i * 100, get_max_bets_per_round(45, i)))\n",
    "\n",
    "roulettedf = pd.DataFrame(roulettedata, columns=['Network Used (%)', 'Bets / Block'])"
   ]
  },
  {
   "cell_type": "code",
   "execution_count": 37,
   "metadata": {},
   "outputs": [
    {
     "data": {
      "text/html": [
       "<div>\n",
       "<style scoped>\n",
       "    .dataframe tbody tr th:only-of-type {\n",
       "        vertical-align: middle;\n",
       "    }\n",
       "\n",
       "    .dataframe tbody tr th {\n",
       "        vertical-align: top;\n",
       "    }\n",
       "\n",
       "    .dataframe thead th {\n",
       "        text-align: right;\n",
       "    }\n",
       "</style>\n",
       "<table border=\"1\" class=\"dataframe\">\n",
       "  <thead>\n",
       "    <tr style=\"text-align: right;\">\n",
       "      <th></th>\n",
       "      <th>Network Used (%)</th>\n",
       "      <th>Bets / Block</th>\n",
       "    </tr>\n",
       "  </thead>\n",
       "  <tbody>\n",
       "    <tr>\n",
       "      <th>0</th>\n",
       "      <td>0.0</td>\n",
       "      <td>0</td>\n",
       "    </tr>\n",
       "    <tr>\n",
       "      <th>1</th>\n",
       "      <td>5.0</td>\n",
       "      <td>4</td>\n",
       "    </tr>\n",
       "    <tr>\n",
       "      <th>2</th>\n",
       "      <td>10.0</td>\n",
       "      <td>7</td>\n",
       "    </tr>\n",
       "    <tr>\n",
       "      <th>3</th>\n",
       "      <td>15.0</td>\n",
       "      <td>11</td>\n",
       "    </tr>\n",
       "    <tr>\n",
       "      <th>4</th>\n",
       "      <td>20.0</td>\n",
       "      <td>14</td>\n",
       "    </tr>\n",
       "    <tr>\n",
       "      <th>5</th>\n",
       "      <td>25.0</td>\n",
       "      <td>18</td>\n",
       "    </tr>\n",
       "    <tr>\n",
       "      <th>6</th>\n",
       "      <td>30.0</td>\n",
       "      <td>22</td>\n",
       "    </tr>\n",
       "    <tr>\n",
       "      <th>7</th>\n",
       "      <td>35.0</td>\n",
       "      <td>25</td>\n",
       "    </tr>\n",
       "    <tr>\n",
       "      <th>8</th>\n",
       "      <td>40.0</td>\n",
       "      <td>29</td>\n",
       "    </tr>\n",
       "    <tr>\n",
       "      <th>9</th>\n",
       "      <td>45.0</td>\n",
       "      <td>32</td>\n",
       "    </tr>\n",
       "    <tr>\n",
       "      <th>10</th>\n",
       "      <td>50.0</td>\n",
       "      <td>35</td>\n",
       "    </tr>\n",
       "    <tr>\n",
       "      <th>11</th>\n",
       "      <td>55.0</td>\n",
       "      <td>39</td>\n",
       "    </tr>\n",
       "    <tr>\n",
       "      <th>12</th>\n",
       "      <td>60.0</td>\n",
       "      <td>43</td>\n",
       "    </tr>\n",
       "    <tr>\n",
       "      <th>13</th>\n",
       "      <td>65.0</td>\n",
       "      <td>46</td>\n",
       "    </tr>\n",
       "    <tr>\n",
       "      <th>14</th>\n",
       "      <td>70.0</td>\n",
       "      <td>50</td>\n",
       "    </tr>\n",
       "    <tr>\n",
       "      <th>15</th>\n",
       "      <td>75.0</td>\n",
       "      <td>53</td>\n",
       "    </tr>\n",
       "    <tr>\n",
       "      <th>16</th>\n",
       "      <td>80.0</td>\n",
       "      <td>57</td>\n",
       "    </tr>\n",
       "    <tr>\n",
       "      <th>17</th>\n",
       "      <td>85.0</td>\n",
       "      <td>61</td>\n",
       "    </tr>\n",
       "    <tr>\n",
       "      <th>18</th>\n",
       "      <td>90.0</td>\n",
       "      <td>64</td>\n",
       "    </tr>\n",
       "    <tr>\n",
       "      <th>19</th>\n",
       "      <td>95.0</td>\n",
       "      <td>67</td>\n",
       "    </tr>\n",
       "    <tr>\n",
       "      <th>20</th>\n",
       "      <td>100.0</td>\n",
       "      <td>70</td>\n",
       "    </tr>\n",
       "  </tbody>\n",
       "</table>\n",
       "</div>"
      ],
      "text/plain": [
       "    Network Used (%)  Bets / Block\n",
       "0                0.0             0\n",
       "1                5.0             4\n",
       "2               10.0             7\n",
       "3               15.0            11\n",
       "4               20.0            14\n",
       "5               25.0            18\n",
       "6               30.0            22\n",
       "7               35.0            25\n",
       "8               40.0            29\n",
       "9               45.0            32\n",
       "10              50.0            35\n",
       "11              55.0            39\n",
       "12              60.0            43\n",
       "13              65.0            46\n",
       "14              70.0            50\n",
       "15              75.0            53\n",
       "16              80.0            57\n",
       "17              85.0            61\n",
       "18              90.0            64\n",
       "19              95.0            67\n",
       "20             100.0            70"
      ]
     },
     "execution_count": 37,
     "metadata": {},
     "output_type": "execute_result"
    }
   ],
   "source": [
    "dicedf"
   ]
  },
  {
   "cell_type": "code",
   "execution_count": 35,
   "metadata": {},
   "outputs": [
    {
     "data": {
      "text/plain": [
       "<AxesSubplot:xlabel='Network Used (%)', ylabel='Bets / Block'>"
      ]
     },
     "execution_count": 35,
     "metadata": {},
     "output_type": "execute_result"
    },
    {
     "data": {
      "image/png": "[encoded data removed]",
      "text/plain": [
       "<Figure size 432x288 with 1 Axes>"
      ]
     },
     "metadata": {
      "needs_background": "light"
     },
     "output_type": "display_data"
    }
   ],
   "source": [
    "sns.lineplot(data=roulettedf, x='Network Used (%)', y='Bets / Block', palette='tab10')"
   ]
  },
  {
   "cell_type": "code",
   "execution_count": 4,
   "metadata": {},
   "outputs": [],
   "source": [
    "def games_per_block(proportion_gas_used):\n",
    "  bet_range = [178286, 212486]\n",
    "  roll_range = [86993, 92445]\n",
    "  gas_limit = 20000000 * proportion_gas_used\n",
    "\n",
    "  max_bets = 0\n",
    "  while gas_limit > 0:\n",
    "    max_bets += 1\n",
    "    gas_limit -= np.random.randint(*roll_range) + np.random.randint(*bet_range)\n",
    "\n",
    "  return max_bets\n",
    "\n",
    "dicedata = []\n",
    "\n",
    "for i in xspace:\n",
    "  dicedata.append((i * 100, games_per_block(i)))\n",
    "\n",
    "dicedf = pd.DataFrame(dicedata, columns=['Network Used (%)', 'Bets / Block'])"
   ]
  },
  {
   "cell_type": "code",
   "execution_count": 8,
   "metadata": {},
   "outputs": [
    {
     "data": {
      "image/png": "[encoded data removed]",
      "text/plain": [
       "<Figure size 432x288 with 1 Axes>"
      ]
     },
     "metadata": {
      "needs_background": "light"
     },
     "output_type": "display_data"
    }
   ],
   "source": [
    "tpslimit = 7000 * 2.2\n",
    "\n",
    "g = sns.lineplot(data=dicedf, x='Network Used (%)', y='Bets / Block', palette='tab10')\n",
    "#g.axhline(tpslimit, linestyle='--', color=(0, 0, 0, 0.45))\n",
    "#g.text(-3, 7000 * 2.24, \"TPS Limit\")"
   ]
  }
 ],
 "metadata": {
  "interpreter": {
   "hash": "bd10c54fb5c9cb230de14b3bd1e5d193b4a3144d6fe8d76e0d7306b69f26d7b6"
  },
  "kernelspec": {
   "display_name": "Python 3.9.7 ('base')",
   "language": "python",
   "name": "python3"
  },
  "language_info": {
   "codemirror_mode": {
    "name": "ipython",
    "version": 3
   },
   "file_extension": ".py",
   "mimetype": "text/x-python",
   "name": "python",
   "nbconvert_exporter": "python",
   "pygments_lexer": "ipython3",
   "version": "3.9.7"
  },
  "orig_nbformat": 4
 },
 "nbformat": 4,
 "nbformat_minor": 2
}
