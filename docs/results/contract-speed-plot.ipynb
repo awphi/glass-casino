{
 "cells": [
  {
   "cell_type": "code",
   "execution_count": 32,
   "metadata": {},
   "outputs": [],
   "source": [
    "import numpy as np\n",
    "import pandas as pd\n",
    "import seaborn as sns\n",
    "import json\n",
    "import matplotlib.pyplot as plt"
   ]
  },
  {
   "cell_type": "code",
   "execution_count": 48,
   "metadata": {},
   "outputs": [
    {
     "name": "stdout",
     "output_type": "stream",
     "text": [
      "./CentralBank.deposit.json: 9369.65 +- 1718.9416067743546\n",
      "./Roulette.place_bet.json: 9452.13 +- 1814.131751858172\n"
     ]
    }
   ],
   "source": [
    "pths = ['./CentralBank.deposit.json', './Roulette.place_bet.json']\n",
    "\n",
    "for pth in pths:\n",
    "  with open(pth, 'r') as f:\n",
    "    string = f.read()\n",
    "    data = json.loads(string)\n",
    "    results = np.array(data['results'])\n",
    "    print(f'{pth}: {results.mean()} +- {results.std()}')"
   ]
  }
 ],
 "metadata": {
  "interpreter": {
   "hash": "bd10c54fb5c9cb230de14b3bd1e5d193b4a3144d6fe8d76e0d7306b69f26d7b6"
  },
  "kernelspec": {
   "display_name": "Python 3.9.7 ('base')",
   "language": "python",
   "name": "python3"
  },
  "language_info": {
   "codemirror_mode": {
    "name": "ipython",
    "version": 3
   },
   "file_extension": ".py",
   "mimetype": "text/x-python",
   "name": "python",
   "nbconvert_exporter": "python",
   "pygments_lexer": "ipython3",
   "version": "3.9.7"
  },
  "orig_nbformat": 4
 },
 "nbformat": 4,
 "nbformat_minor": 2
}
